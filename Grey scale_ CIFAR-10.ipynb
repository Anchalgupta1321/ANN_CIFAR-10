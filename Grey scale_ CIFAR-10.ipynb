{
 "cells": [
  {
   "cell_type": "markdown",
   "id": "ead3c437-7f72-4acf-b677-743e456eb408",
   "metadata": {},
   "source": [
    "### convert images into grey scale and train a greyscale\n",
    "### batch and layered normalization"
   ]
  },
  {
   "cell_type": "code",
   "execution_count": null,
   "id": "b36a5c4e-4d9c-4dd9-bb5f-98df6e1f681f",
   "metadata": {},
   "outputs": [],
   "source": []
  }
 ],
 "metadata": {
  "kernelspec": {
   "display_name": "Python 3 (ipykernel)",
   "language": "python",
   "name": "python3"
  },
  "language_info": {
   "codemirror_mode": {
    "name": "ipython",
    "version": 3
   },
   "file_extension": ".py",
   "mimetype": "text/x-python",
   "name": "python",
   "nbconvert_exporter": "python",
   "pygments_lexer": "ipython3",
   "version": "3.12.4"
  }
 },
 "nbformat": 4,
 "nbformat_minor": 5
}
